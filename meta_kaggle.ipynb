{
 "cells": [
  {
   "cell_type": "code",
   "execution_count": null,
   "metadata": {},
   "outputs": [],
   "source": [
    "import numpy as np\n",
    "import pandas as pd\n",
    "\n",
    "comps = pd.read_csv(\"/kaggle/input/meta-kaggle/Competitions.csv\")\n",
    "evaluation = [\n",
    "    \"EvaluationAlgorithmAbbreviation\",\n",
    "    \"EvaluationAlgorithmName\",\n",
    "    \"EvaluationAlgorithmDescription\",\n",
    "]\n",
    "compt = [\"Title\", \"EnabledDate\", \"HostSegmentTitle\"]\n",
    "df = comps[compt + evaluation].copy()\n",
    "df[\"year\"] = pd.to_datetime(df.EnabledDate).dt.year.values\n",
    "df[\"comps\"] = 1\n",
    "time_select = df.year >= 2015\n",
    "competition_type_select = df.HostSegmentTitle.isin([\"Featured\", \"Research\"])\n",
    "pd.pivot_table(\n",
    "    df[time_select & competition_type_select],\n",
    "    values=\"comps\",\n",
    "    index=[\"EvaluationAlgorithmAbbreviation\"],\n",
    "    columns=[\"year\"],\n",
    "    fill_value=0.0,\n",
    "    aggfunc=np.sum,\n",
    "    margins=True,\n",
    ").sort_values(by=(\"All\"), ascending=False).iloc[1:, :].head(20)"
   ]
  }
 ],
 "metadata": {
  "kernelspec": {
   "display_name": ".venv",
   "language": "python",
   "name": "python3"
  },
  "language_info": {
   "name": "python",
   "version": "3.10.12"
  }
 },
 "nbformat": 4,
 "nbformat_minor": 2
}
